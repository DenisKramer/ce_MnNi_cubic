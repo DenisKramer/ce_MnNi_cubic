{
 "cells": [
  {
   "cell_type": "markdown",
   "metadata": {},
   "source": [
    "# Margnetisation\n",
    "\n",
    "Read all results from the CE and check magnetisations. We can take this as an indication of valance state. Mn3+ is a d(4) ion and Ni3+ is d(7). In high-spin configuration, one therefore expects mu=4 and mu=3 for Mn and Ni. If there is internal charge disproportionation into Mn4+ and Ni3+, this would change to d(3) / mu=3 and d(8) / mu=2 for a transfer from Mn to Ni."
   ]
  },
  {
   "cell_type": "code",
   "execution_count": 184,
   "metadata": {},
   "outputs": [],
   "source": [
    "import json,os\n",
    "from scipy.spatial import ConvexHull\n",
    "import numpy as np\n",
    "import pandas as pd\n",
    "\n",
    "def read_properties(folder):\n",
    "    '''\n",
    "    Reads all properties files found in the subtree of folder\n",
    "    '''\n",
    "    \n",
    "    # Walk the directory tree and find all properties files\n",
    "    properties = []\n",
    "    properties_files = []\n",
    "    for root, dirs, files in os.walk(folder):\n",
    "        path = root.split(os.sep)\n",
    "        \n",
    "        for file in files:\n",
    "            if \"properties.calc.json\" in file:\n",
    "                properties_files.append(os.path.join(root, file))\n",
    "\n",
    "    \n",
    "    for file in properties_files:\n",
    "        \n",
    "        path = file.split(os.sep)\n",
    "        n = len(path)\n",
    "\n",
    "        with open(file, 'r') as f:\n",
    "            ds = json.load(f)\n",
    "            ds['configname'] = path[n-4]+\"/\"+path[n-3]\n",
    "            properties.append(ds)\n",
    "    \n",
    "    return properties\n",
    "\n",
    "def reduce_mag(properties):\n",
    "    '''\n",
    "    Extracts avg. magnetisation per TM site from all configurations\n",
    "    '''\n",
    "      \n",
    "    result= []\n",
    " \n",
    "    for p in properties:\n",
    "        n = 0\n",
    "        \n",
    "        # Dict of num atoms per type - n\n",
    "        # Dict of atom indices per type = v\n",
    "        d = 0; v = {}; n = {'La':0,'Ni':0,'Mn':0,'O':0}\n",
    "        for f in zip(p['atom_type'],p['atoms_per_type']):\n",
    "            n[f[0]] = f[1]\n",
    "            v[f[0]] = [d+r for r in range(f[1])]\n",
    "            d += f[1]\n",
    "        \n",
    "        # Calculate concentration\n",
    "        conc = float(n['Ni']) / float(n['Ni']+n['Mn'])\n",
    "\n",
    "        mag = {'mag_La':0.0,'mag_Ni':0.0,'mag_Mn':0.0,'mag_O':0.0,'configname': p['configname']}\n",
    "        for atomtype,indices in v.items():\n",
    "            mag['mag_'+atomtype] = np.average([p['relaxed_mag_basis'][i] for i in indices])\n",
    "            mag['conc'] = conc\n",
    "        result.append(mag)\n",
    "    return result\n",
    "\n",
    "def distance_from_hull(df):\n",
    "    '''\n",
    "    Computes the distance from the hull for a set of points (conc, form_energy)\n",
    "    '''\n",
    "    \n",
    "    \n",
    "    \n",
    "    points = np.array([[v[0],v[1]] for v in zip(df['comp(a)'],df['formation_energy'])])\n",
    "    hull = ConvexHull(points)\n",
    "    \n",
    "    dist = np.array([])\n",
    "    configs = np.array([])\n",
    "    points = [v for v in zip(df['comp(a)'],df['formation_energy'],df['configname'])]\n",
    "    for p in points:\n",
    "        for simplex in hull.simplices:\n",
    "            conc = p[0]\n",
    "            energy = p[1]\n",
    "            config = p[2]\n",
    "            conc_a = points[simplex[0]][0]; energy_a = points[simplex[0]][1]\n",
    "            conc_b = points[simplex[1]][0]; energy_b = points[simplex[1]][1]\n",
    "            \n",
    "            if conc_a > conc_b:\n",
    "                (conc_b,conc_a) = (conc_a,conc_b)\n",
    "                (energy_b,energy_a) = (energy_a,energy_b)\n",
    "            \n",
    "            if p[0] >= conc_a and p[0] <= conc_b:\n",
    "                energy_hull = energy_a + (conc-conc_a)/(conc_b-conc_a)*(energy_b-energy_a)\n",
    "\n",
    "                if (energy >= energy_hull) and not np.any(configs == config):\n",
    "                    dist = np.append(dist, energy-energy_hull)\n",
    "                    configs = np.append(configs, config)\n",
    "    \n",
    "    return pd.Series(dist, index=configs)"
   ]
  },
  {
   "cell_type": "markdown",
   "metadata": {},
   "source": [
    "## Read and process data"
   ]
  },
  {
   "cell_type": "code",
   "execution_count": 190,
   "metadata": {},
   "outputs": [
    {
     "name": "stderr",
     "output_type": "stream",
     "text": [
      "/opt/conda/lib/python3.7/site-packages/ipykernel_launcher.py:90: FutureWarning: elementwise comparison failed; returning scalar instead, but in the future will perform elementwise comparison\n"
     ]
    }
   ],
   "source": [
    "d = read_properties(\"../training_data\")\n",
    "mag = pd.DataFrame(reduce_mag(d))\n",
    "mag = mag.set_index('configname')\n",
    "df=pd.read_fwf('../fit_1/summary.dat',header=0)\n",
    "df = df.set_index(df['configname'])\n",
    "df = df.drop(['#'], axis=1)\n",
    "df['mag_Mn'] = mag['mag_Mn']\n",
    "df['mag_Ni'] = mag['mag_Ni']\n",
    "df['dist_hull'] = distance_from_hull(df).rename('dist_hull')\n"
   ]
  },
  {
   "cell_type": "markdown",
   "metadata": {},
   "source": [
    "## Plot magnetisation as function of concentration"
   ]
  },
  {
   "cell_type": "code",
   "execution_count": 208,
   "metadata": {},
   "outputs": [
    {
     "data": {
      "text/plain": [
       "(1.2, 2)"
      ]
     },
     "execution_count": 208,
     "metadata": {},
     "output_type": "execute_result"
    },
    {
     "data": {
      "image/png": "[encoded data removed]",
      "text/plain": [
       "<Figure size 936x504 with 2 Axes>"
      ]
     },
     "metadata": {
      "needs_background": "light"
     },
     "output_type": "display_data"
    }
   ],
   "source": [
    "import matplotlib.pyplot as plt\n",
    "import math\n",
    "\n",
    "f, (ax1, ax2) = plt.subplots(1, 2, sharex=True, figsize=(13,7))\n",
    "\n",
    "dotcolors=[(0.2, 0.4, 0.6, math.exp(-a/0.05)) for a in df['dist_hull']]\n",
    "ax1.scatter(df['comp(a)'],df['mag_Mn'],c=dotcolors)\n",
    "dotcolors=[(0.8, 0.2, 0.2, math.exp(-a/0.05)) for a in df['dist_hull']]\n",
    "ax2.scatter(df['comp(a)'],df['mag_Ni'],c=dotcolors)\n",
    "ax1.set_ylim([3,4.2])\n",
    "ax2.set_ylim([1.2,2])"
   ]
  },
  {
   "cell_type": "markdown",
   "metadata": {},
   "source": [
    "The left-hand plot shows magnetisation of Mn centres as function of concentration. The left-hand plot shows the same for Ni centres. Starting from mu=4 for LaMnO3, magnetisation of Mn gradually reduces down to a Mn:Ni ratio of 1:1 after which it stays constant. This can be interpreted as a gradual change of valence from Mn3+ to Mn4+. The Ni center shows as similar trend but at a reduce magnitude. The magnetisatioon increases from about 1.4 for LaNiO3 to about 1.8. "
   ]
  }
 ],
 "metadata": {
  "kernelspec": {
   "display_name": "Python 3",
   "language": "python",
   "name": "python3"
  },
  "language_info": {
   "codemirror_mode": {
    "name": "ipython",
    "version": 3
   },
   "file_extension": ".py",
   "mimetype": "text/x-python",
   "name": "python",
   "nbconvert_exporter": "python",
   "pygments_lexer": "ipython3",
   "version": "3.7.3"
  }
 },
 "nbformat": 4,
 "nbformat_minor": 2
}
